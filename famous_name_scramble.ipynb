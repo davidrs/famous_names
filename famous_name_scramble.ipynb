{
 "cells": [
  {
   "cell_type": "code",
   "execution_count": 2,
   "id": "bd1791e3-1967-4b37-88f1-e9ffe1f9231e",
   "metadata": {},
   "outputs": [
    {
     "name": "stdout",
     "output_type": "stream",
     "text": [
      "Collecting pandas\n",
      "  Downloading pandas-1.3.5-cp39-cp39-macosx_10_9_x86_64.whl (11.3 MB)\n",
      "\u001b[K     |████████████████████████████████| 11.3 MB 8.5 MB/s eta 0:00:01\n",
      "\u001b[?25hRequirement already satisfied: pytz>=2017.3 in /Users/drustsmith/.local/share/virtualenvs/famous_names-3bSCXxT2/lib/python3.9/site-packages (from pandas) (2021.3)\n",
      "Collecting numpy>=1.17.3\n",
      "  Downloading numpy-1.21.5-cp39-cp39-macosx_10_9_x86_64.whl (17.0 MB)\n",
      "\u001b[K     |████████████████████████████████| 17.0 MB 9.1 MB/s eta 0:00:01\n",
      "\u001b[?25hRequirement already satisfied: python-dateutil>=2.7.3 in /Users/drustsmith/.local/share/virtualenvs/famous_names-3bSCXxT2/lib/python3.9/site-packages (from pandas) (2.8.2)\n",
      "Requirement already satisfied: six>=1.5 in /Users/drustsmith/.local/share/virtualenvs/famous_names-3bSCXxT2/lib/python3.9/site-packages (from python-dateutil>=2.7.3->pandas) (1.16.0)\n",
      "Installing collected packages: numpy, pandas\n",
      "Successfully installed numpy-1.21.5 pandas-1.3.5\n"
     ]
    }
   ],
   "source": [
    "!pip install pandas"
   ]
  },
  {
   "cell_type": "code",
   "execution_count": 3,
   "id": "c5a61b66-d1c4-48d6-9d7a-ace20a48853c",
   "metadata": {},
   "outputs": [],
   "source": [
    "\n",
    "import pandas as pd"
   ]
  },
  {
   "cell_type": "code",
   "execution_count": 7,
   "id": "65057c23-460c-4c4a-bf04-192504394331",
   "metadata": {},
   "outputs": [
    {
     "data": {
      "text/html": [
       "<div>\n",
       "<style scoped>\n",
       "    .dataframe tbody tr th:only-of-type {\n",
       "        vertical-align: middle;\n",
       "    }\n",
       "\n",
       "    .dataframe tbody tr th {\n",
       "        vertical-align: top;\n",
       "    }\n",
       "\n",
       "    .dataframe thead th {\n",
       "        text-align: right;\n",
       "    }\n",
       "</style>\n",
       "<table border=\"1\" class=\"dataframe\">\n",
       "  <thead>\n",
       "    <tr style=\"text-align: right;\">\n",
       "      <th></th>\n",
       "      <th>movie_id</th>\n",
       "      <th>title</th>\n",
       "      <th>cast</th>\n",
       "      <th>crew</th>\n",
       "    </tr>\n",
       "  </thead>\n",
       "  <tbody>\n",
       "    <tr>\n",
       "      <th>1749</th>\n",
       "      <td>5125</td>\n",
       "      <td>Rendition</td>\n",
       "      <td>[{\"cast_id\": 1, \"character\": \"Anwar El-Ibrahim...</td>\n",
       "      <td>[{\"credit_id\": \"52fe43f5c3a36847f807a709\", \"de...</td>\n",
       "    </tr>\n",
       "    <tr>\n",
       "      <th>3489</th>\n",
       "      <td>31064</td>\n",
       "      <td>The Business of Strangers</td>\n",
       "      <td>[{\"cast_id\": 1, \"character\": \"\", \"credit_id\": ...</td>\n",
       "      <td>[{\"credit_id\": \"52fe445b9251416c9100dceb\", \"de...</td>\n",
       "    </tr>\n",
       "    <tr>\n",
       "      <th>1263</th>\n",
       "      <td>78698</td>\n",
       "      <td>Big Miracle</td>\n",
       "      <td>[{\"cast_id\": 1, \"character\": \"Rachel Kramer\", ...</td>\n",
       "      <td>[{\"credit_id\": \"575adb64c3a36805d8001df8\", \"de...</td>\n",
       "    </tr>\n",
       "  </tbody>\n",
       "</table>\n",
       "</div>"
      ],
      "text/plain": [
       "      movie_id                      title  \\\n",
       "1749      5125                  Rendition   \n",
       "3489     31064  The Business of Strangers   \n",
       "1263     78698                Big Miracle   \n",
       "\n",
       "                                                   cast  \\\n",
       "1749  [{\"cast_id\": 1, \"character\": \"Anwar El-Ibrahim...   \n",
       "3489  [{\"cast_id\": 1, \"character\": \"\", \"credit_id\": ...   \n",
       "1263  [{\"cast_id\": 1, \"character\": \"Rachel Kramer\", ...   \n",
       "\n",
       "                                                   crew  \n",
       "1749  [{\"credit_id\": \"52fe43f5c3a36847f807a709\", \"de...  \n",
       "3489  [{\"credit_id\": \"52fe445b9251416c9100dceb\", \"de...  \n",
       "1263  [{\"credit_id\": \"575adb64c3a36805d8001df8\", \"de...  "
      ]
     },
     "execution_count": 7,
     "metadata": {},
     "output_type": "execute_result"
    }
   ],
   "source": [
    "credits = pd.read_csv('tmdb_5000_credits.csv')\n",
    "credits.sample(3)"
   ]
  },
  {
   "cell_type": "code",
   "execution_count": 6,
   "id": "38dd8270-05f7-4c58-b201-f364a45f9a70",
   "metadata": {},
   "outputs": [
    {
     "data": {
      "text/html": [
       "<div>\n",
       "<style scoped>\n",
       "    .dataframe tbody tr th:only-of-type {\n",
       "        vertical-align: middle;\n",
       "    }\n",
       "\n",
       "    .dataframe tbody tr th {\n",
       "        vertical-align: top;\n",
       "    }\n",
       "\n",
       "    .dataframe thead th {\n",
       "        text-align: right;\n",
       "    }\n",
       "</style>\n",
       "<table border=\"1\" class=\"dataframe\">\n",
       "  <thead>\n",
       "    <tr style=\"text-align: right;\">\n",
       "      <th></th>\n",
       "      <th>budget</th>\n",
       "      <th>genres</th>\n",
       "      <th>homepage</th>\n",
       "      <th>id</th>\n",
       "      <th>keywords</th>\n",
       "      <th>original_language</th>\n",
       "      <th>original_title</th>\n",
       "      <th>overview</th>\n",
       "      <th>popularity</th>\n",
       "      <th>production_companies</th>\n",
       "      <th>production_countries</th>\n",
       "      <th>release_date</th>\n",
       "      <th>revenue</th>\n",
       "      <th>runtime</th>\n",
       "      <th>spoken_languages</th>\n",
       "      <th>status</th>\n",
       "      <th>tagline</th>\n",
       "      <th>title</th>\n",
       "      <th>vote_average</th>\n",
       "      <th>vote_count</th>\n",
       "    </tr>\n",
       "  </thead>\n",
       "  <tbody>\n",
       "    <tr>\n",
       "      <th>4308</th>\n",
       "      <td>1344000</td>\n",
       "      <td>[{\"id\": 18, \"name\": \"Drama\"}, {\"id\": 10749, \"n...</td>\n",
       "      <td>NaN</td>\n",
       "      <td>86331</td>\n",
       "      <td>[{\"id\": 254, \"name\": \"france\"}, {\"id\": 293, \"n...</td>\n",
       "      <td>fr</td>\n",
       "      <td>Q</td>\n",
       "      <td>In a social context deteriorated by a countryw...</td>\n",
       "      <td>20.422246</td>\n",
       "      <td>[{\"name\": \"Acajou Films\", \"id\": 18519}, {\"name...</td>\n",
       "      <td>[{\"iso_3166_1\": \"FR\", \"name\": \"France\"}]</td>\n",
       "      <td>2011-09-14</td>\n",
       "      <td>0</td>\n",
       "      <td>103.0</td>\n",
       "      <td>[{\"iso_639_1\": \"fr\", \"name\": \"Fran\\u00e7ais\"}]</td>\n",
       "      <td>Released</td>\n",
       "      <td>NaN</td>\n",
       "      <td>Desire</td>\n",
       "      <td>4.1</td>\n",
       "      <td>140</td>\n",
       "    </tr>\n",
       "    <tr>\n",
       "      <th>1513</th>\n",
       "      <td>32000000</td>\n",
       "      <td>[{\"id\": 28, \"name\": \"Action\"}, {\"id\": 53, \"nam...</td>\n",
       "      <td>NaN</td>\n",
       "      <td>9335</td>\n",
       "      <td>[{\"id\": 779, \"name\": \"martial arts\"}, {\"id\": 1...</td>\n",
       "      <td>en</td>\n",
       "      <td>Transporter 2</td>\n",
       "      <td>Professional driver Frank Martin is living in ...</td>\n",
       "      <td>47.561200</td>\n",
       "      <td>[{\"name\": \"Canal Plus\", \"id\": 104}, {\"name\": \"...</td>\n",
       "      <td>[{\"iso_3166_1\": \"FR\", \"name\": \"France\"}, {\"iso...</td>\n",
       "      <td>2005-08-02</td>\n",
       "      <td>85167639</td>\n",
       "      <td>87.0</td>\n",
       "      <td>[{\"iso_639_1\": \"en\", \"name\": \"English\"}, {\"iso...</td>\n",
       "      <td>Released</td>\n",
       "      <td>The Best In The Business Is Back In The Game.</td>\n",
       "      <td>Transporter 2</td>\n",
       "      <td>6.2</td>\n",
       "      <td>1061</td>\n",
       "    </tr>\n",
       "    <tr>\n",
       "      <th>461</th>\n",
       "      <td>80000000</td>\n",
       "      <td>[{\"id\": 12, \"name\": \"Adventure\"}, {\"id\": 10751...</td>\n",
       "      <td>NaN</td>\n",
       "      <td>2157</td>\n",
       "      <td>[{\"id\": 4379, \"name\": \"time travel\"}, {\"id\": 1...</td>\n",
       "      <td>en</td>\n",
       "      <td>Lost in Space</td>\n",
       "      <td>The prospects for continuing life on Earth in ...</td>\n",
       "      <td>17.455024</td>\n",
       "      <td>[{\"name\": \"New Line Cinema\", \"id\": 12}, {\"name...</td>\n",
       "      <td>[{\"iso_3166_1\": \"US\", \"name\": \"United States o...</td>\n",
       "      <td>1998-04-03</td>\n",
       "      <td>136159423</td>\n",
       "      <td>130.0</td>\n",
       "      <td>[{\"iso_639_1\": \"en\", \"name\": \"English\"}]</td>\n",
       "      <td>Released</td>\n",
       "      <td>Danger, Will Robinson!</td>\n",
       "      <td>Lost in Space</td>\n",
       "      <td>5.0</td>\n",
       "      <td>388</td>\n",
       "    </tr>\n",
       "  </tbody>\n",
       "</table>\n",
       "</div>"
      ],
      "text/plain": [
       "        budget                                             genres homepage  \\\n",
       "4308   1344000  [{\"id\": 18, \"name\": \"Drama\"}, {\"id\": 10749, \"n...      NaN   \n",
       "1513  32000000  [{\"id\": 28, \"name\": \"Action\"}, {\"id\": 53, \"nam...      NaN   \n",
       "461   80000000  [{\"id\": 12, \"name\": \"Adventure\"}, {\"id\": 10751...      NaN   \n",
       "\n",
       "         id                                           keywords  \\\n",
       "4308  86331  [{\"id\": 254, \"name\": \"france\"}, {\"id\": 293, \"n...   \n",
       "1513   9335  [{\"id\": 779, \"name\": \"martial arts\"}, {\"id\": 1...   \n",
       "461    2157  [{\"id\": 4379, \"name\": \"time travel\"}, {\"id\": 1...   \n",
       "\n",
       "     original_language original_title  \\\n",
       "4308                fr              Q   \n",
       "1513                en  Transporter 2   \n",
       "461                 en  Lost in Space   \n",
       "\n",
       "                                               overview  popularity  \\\n",
       "4308  In a social context deteriorated by a countryw...   20.422246   \n",
       "1513  Professional driver Frank Martin is living in ...   47.561200   \n",
       "461   The prospects for continuing life on Earth in ...   17.455024   \n",
       "\n",
       "                                   production_companies  \\\n",
       "4308  [{\"name\": \"Acajou Films\", \"id\": 18519}, {\"name...   \n",
       "1513  [{\"name\": \"Canal Plus\", \"id\": 104}, {\"name\": \"...   \n",
       "461   [{\"name\": \"New Line Cinema\", \"id\": 12}, {\"name...   \n",
       "\n",
       "                                   production_countries release_date  \\\n",
       "4308           [{\"iso_3166_1\": \"FR\", \"name\": \"France\"}]   2011-09-14   \n",
       "1513  [{\"iso_3166_1\": \"FR\", \"name\": \"France\"}, {\"iso...   2005-08-02   \n",
       "461   [{\"iso_3166_1\": \"US\", \"name\": \"United States o...   1998-04-03   \n",
       "\n",
       "        revenue  runtime                                   spoken_languages  \\\n",
       "4308          0    103.0     [{\"iso_639_1\": \"fr\", \"name\": \"Fran\\u00e7ais\"}]   \n",
       "1513   85167639     87.0  [{\"iso_639_1\": \"en\", \"name\": \"English\"}, {\"iso...   \n",
       "461   136159423    130.0           [{\"iso_639_1\": \"en\", \"name\": \"English\"}]   \n",
       "\n",
       "        status                                        tagline          title  \\\n",
       "4308  Released                                            NaN         Desire   \n",
       "1513  Released  The Best In The Business Is Back In The Game.  Transporter 2   \n",
       "461   Released                         Danger, Will Robinson!  Lost in Space   \n",
       "\n",
       "      vote_average  vote_count  \n",
       "4308           4.1         140  \n",
       "1513           6.2        1061  \n",
       "461            5.0         388  "
      ]
     },
     "execution_count": 6,
     "metadata": {},
     "output_type": "execute_result"
    }
   ],
   "source": [
    "x = pd.read_csv('tmdb_5000_movies.csv')\n",
    "x.sample(3)"
   ]
  },
  {
   "cell_type": "code",
   "execution_count": 36,
   "id": "7153246e-1fed-49f6-90b7-5fae18cc10f2",
   "metadata": {},
   "outputs": [
    {
     "name": "stdout",
     "output_type": "stream",
     "text": [
      " [('Samuel L. Jackson', 67), ('Robert De Niro', 57), ('Bruce Willis', 51), ('Matt Damon', 48), ('Morgan Freeman', 46), ('Steve Buscemi', 43), ('Liam Neeson', 41), ('Johnny Depp', 40), ('Owen Wilson', 40), ('John Goodman', 39)]\n"
     ]
    }
   ],
   "source": [
    "import json\n",
    "actor_names = []\n",
    "actor_movies = {}\n",
    "for i, c in credits.iterrows():\n",
    "    credit = json.loads(c['cast'])\n",
    "    for p in credit:\n",
    "        actor_names.append(p.get('name',None))\n",
    "        if p.get('name',None) not in actor_movies:\n",
    "            actor_movies[p.get('name',None)]=[]\n",
    "        actor_movies[p.get('name',None)].append(c['title'])\n",
    "\n",
    "from collections import Counter\n",
    "c = Counter(actor_names)\n",
    "c.most_common(1)\n",
    "print (\"\",c.most_common(10))"
   ]
  },
  {
   "cell_type": "code",
   "execution_count": 57,
   "id": "f3aa718a-e1c3-4a2a-92a9-72004f4f152d",
   "metadata": {},
   "outputs": [
    {
     "data": {
      "text/plain": [
       "'Samuel L. Jackson'"
      ]
     },
     "execution_count": 57,
     "metadata": {},
     "output_type": "execute_result"
    }
   ],
   "source": [
    "# save out CSV for  html version:\n",
    "from collections import Counter\n",
    "c = Counter(actor_names)\n",
    "c.most_common(1)\n",
    "actors = [a for a,cn in c.most_common(200)]\n",
    "actors[0]\n",
    "\n"
   ]
  },
  {
   "cell_type": "code",
   "execution_count": 58,
   "id": "197c18ce-438d-4551-ac9f-f9df7d4040bd",
   "metadata": {},
   "outputs": [],
   "source": [
    "import json\n",
    "save_actor_movies = {}\n",
    "for a in actors:\n",
    "    save_actor_movies[a] = actor_movies[a]\n",
    "    \n",
    "with open('actor_movies_200.json', 'w') as outfile:\n",
    "    json.dump(save_actor_movies, outfile)\n"
   ]
  },
  {
   "cell_type": "code",
   "execution_count": 55,
   "id": "34e8c44b-c646-4df6-afa1-bd7fa791b218",
   "metadata": {},
   "outputs": [
    {
     "name": "stdout",
     "output_type": "stream",
     "text": [
      "abdehillr\n",
      "In the movie: Trainwreck\n"
     ]
    },
    {
     "name": "stdin",
     "output_type": "stream",
     "text": [
      "\n",
      "Type \"h\" for a hint, \"y\" for the answer, or type a guess: h\n"
     ]
    },
    {
     "name": "stdout",
     "output_type": "stream",
     "text": [
      "In the movie: Sausage Party\n"
     ]
    },
    {
     "ename": "KeyboardInterrupt",
     "evalue": "Interrupted by user",
     "output_type": "error",
     "traceback": [
      "\u001b[0;31m---------------------------------------------------------------------------\u001b[0m",
      "\u001b[0;31mKeyboardInterrupt\u001b[0m                         Traceback (most recent call last)",
      "\u001b[0;32m/var/folders/61/qd7nhf_x32s4sv0bx27n5v840000gn/T/ipykernel_27588/59208975.py\u001b[0m in \u001b[0;36m<module>\u001b[0;34m\u001b[0m\n\u001b[1;32m     37\u001b[0m \u001b[0;34m\u001b[0m\u001b[0m\n\u001b[1;32m     38\u001b[0m \u001b[0;32mfor\u001b[0m \u001b[0mn\u001b[0m \u001b[0;32min\u001b[0m \u001b[0mnames\u001b[0m\u001b[0;34m:\u001b[0m\u001b[0;34m\u001b[0m\u001b[0;34m\u001b[0m\u001b[0m\n\u001b[0;32m---> 39\u001b[0;31m     \u001b[0mplay_round\u001b[0m\u001b[0;34m(\u001b[0m\u001b[0mn\u001b[0m\u001b[0;34m)\u001b[0m\u001b[0;34m\u001b[0m\u001b[0;34m\u001b[0m\u001b[0m\n\u001b[0m\u001b[1;32m     40\u001b[0m     \u001b[0mprint\u001b[0m\u001b[0;34m(\u001b[0m\u001b[0;34m'Score:'\u001b[0m\u001b[0;34m,\u001b[0m \u001b[0mpoints\u001b[0m\u001b[0;34m)\u001b[0m\u001b[0;34m\u001b[0m\u001b[0;34m\u001b[0m\u001b[0m\n\u001b[1;32m     41\u001b[0m     \u001b[0msleep\u001b[0m\u001b[0;34m(\u001b[0m\u001b[0;36m3\u001b[0m\u001b[0;34m)\u001b[0m\u001b[0;34m\u001b[0m\u001b[0;34m\u001b[0m\u001b[0m\n",
      "\u001b[0;32m/var/folders/61/qd7nhf_x32s4sv0bx27n5v840000gn/T/ipykernel_27588/59208975.py\u001b[0m in \u001b[0;36mplay_round\u001b[0;34m(name)\u001b[0m\n\u001b[1;32m     23\u001b[0m     \u001b[0mans\u001b[0m \u001b[0;34m=\u001b[0m \u001b[0;34m\"\"\u001b[0m\u001b[0;34m\u001b[0m\u001b[0;34m\u001b[0m\u001b[0m\n\u001b[1;32m     24\u001b[0m     \u001b[0;32mwhile\u001b[0m \u001b[0;32mTrue\u001b[0m\u001b[0;34m:\u001b[0m\u001b[0;34m\u001b[0m\u001b[0;34m\u001b[0m\u001b[0m\n\u001b[0;32m---> 25\u001b[0;31m         \u001b[0mans\u001b[0m \u001b[0;34m=\u001b[0m \u001b[0minput\u001b[0m\u001b[0;34m(\u001b[0m\u001b[0;34m'\\nType \"h\" for a hint, \"y\" for the answer, or type a guess:'\u001b[0m\u001b[0;34m)\u001b[0m\u001b[0;34m\u001b[0m\u001b[0;34m\u001b[0m\u001b[0m\n\u001b[0m\u001b[1;32m     26\u001b[0m         \u001b[0;32mif\u001b[0m \u001b[0mans\u001b[0m\u001b[0;34m.\u001b[0m\u001b[0mlower\u001b[0m\u001b[0;34m(\u001b[0m\u001b[0;34m)\u001b[0m \u001b[0;32min\u001b[0m \u001b[0;34m[\u001b[0m\u001b[0;34m'h'\u001b[0m\u001b[0;34m,\u001b[0m\u001b[0;34m'hint'\u001b[0m\u001b[0;34m]\u001b[0m\u001b[0;34m:\u001b[0m\u001b[0;34m\u001b[0m\u001b[0;34m\u001b[0m\u001b[0m\n\u001b[1;32m     27\u001b[0m             \u001b[0mprint\u001b[0m\u001b[0;34m(\u001b[0m\u001b[0;34m'In the movie:'\u001b[0m\u001b[0;34m,\u001b[0m \u001b[0mrandom\u001b[0m\u001b[0;34m.\u001b[0m\u001b[0msample\u001b[0m\u001b[0;34m(\u001b[0m\u001b[0mactor_movies\u001b[0m\u001b[0;34m[\u001b[0m\u001b[0mname\u001b[0m\u001b[0;34m]\u001b[0m\u001b[0;34m,\u001b[0m\u001b[0;36m1\u001b[0m\u001b[0;34m)\u001b[0m\u001b[0;34m[\u001b[0m\u001b[0;36m0\u001b[0m\u001b[0;34m]\u001b[0m\u001b[0;34m)\u001b[0m\u001b[0;34m\u001b[0m\u001b[0;34m\u001b[0m\u001b[0m\n",
      "\u001b[0;32m~/.local/share/virtualenvs/famous_names-3bSCXxT2/lib/python3.9/site-packages/ipykernel/kernelbase.py\u001b[0m in \u001b[0;36mraw_input\u001b[0;34m(self, prompt)\u001b[0m\n\u001b[1;32m   1005\u001b[0m                 \u001b[0;34m\"raw_input was called, but this frontend does not support input requests.\"\u001b[0m\u001b[0;34m\u001b[0m\u001b[0;34m\u001b[0m\u001b[0m\n\u001b[1;32m   1006\u001b[0m             )\n\u001b[0;32m-> 1007\u001b[0;31m         return self._input_request(\n\u001b[0m\u001b[1;32m   1008\u001b[0m             \u001b[0mstr\u001b[0m\u001b[0;34m(\u001b[0m\u001b[0mprompt\u001b[0m\u001b[0;34m)\u001b[0m\u001b[0;34m,\u001b[0m\u001b[0;34m\u001b[0m\u001b[0;34m\u001b[0m\u001b[0m\n\u001b[1;32m   1009\u001b[0m             \u001b[0mself\u001b[0m\u001b[0;34m.\u001b[0m\u001b[0m_parent_ident\u001b[0m\u001b[0;34m[\u001b[0m\u001b[0;34m\"shell\"\u001b[0m\u001b[0;34m]\u001b[0m\u001b[0;34m,\u001b[0m\u001b[0;34m\u001b[0m\u001b[0;34m\u001b[0m\u001b[0m\n",
      "\u001b[0;32m~/.local/share/virtualenvs/famous_names-3bSCXxT2/lib/python3.9/site-packages/ipykernel/kernelbase.py\u001b[0m in \u001b[0;36m_input_request\u001b[0;34m(self, prompt, ident, parent, password)\u001b[0m\n\u001b[1;32m   1050\u001b[0m             \u001b[0;32mexcept\u001b[0m \u001b[0mKeyboardInterrupt\u001b[0m\u001b[0;34m:\u001b[0m\u001b[0;34m\u001b[0m\u001b[0;34m\u001b[0m\u001b[0m\n\u001b[1;32m   1051\u001b[0m                 \u001b[0;31m# re-raise KeyboardInterrupt, to truncate traceback\u001b[0m\u001b[0;34m\u001b[0m\u001b[0;34m\u001b[0m\u001b[0;34m\u001b[0m\u001b[0m\n\u001b[0;32m-> 1052\u001b[0;31m                 \u001b[0;32mraise\u001b[0m \u001b[0mKeyboardInterrupt\u001b[0m\u001b[0;34m(\u001b[0m\u001b[0;34m\"Interrupted by user\"\u001b[0m\u001b[0;34m)\u001b[0m \u001b[0;32mfrom\u001b[0m \u001b[0;32mNone\u001b[0m\u001b[0;34m\u001b[0m\u001b[0;34m\u001b[0m\u001b[0m\n\u001b[0m\u001b[1;32m   1053\u001b[0m             \u001b[0;32mexcept\u001b[0m \u001b[0mException\u001b[0m\u001b[0;34m:\u001b[0m\u001b[0;34m\u001b[0m\u001b[0;34m\u001b[0m\u001b[0m\n\u001b[1;32m   1054\u001b[0m                 \u001b[0mself\u001b[0m\u001b[0;34m.\u001b[0m\u001b[0mlog\u001b[0m\u001b[0;34m.\u001b[0m\u001b[0mwarning\u001b[0m\u001b[0;34m(\u001b[0m\u001b[0;34m\"Invalid Message:\"\u001b[0m\u001b[0;34m,\u001b[0m \u001b[0mexc_info\u001b[0m\u001b[0;34m=\u001b[0m\u001b[0;32mTrue\u001b[0m\u001b[0;34m)\u001b[0m\u001b[0;34m\u001b[0m\u001b[0;34m\u001b[0m\u001b[0m\n",
      "\u001b[0;31mKeyboardInterrupt\u001b[0m: Interrupted by user"
     ]
    }
   ],
   "source": [
    "names = [x[0] for x in c.most_common(50)]\n",
    "import random\n",
    "from IPython.display import clear_output\n",
    "from time import sleep\n",
    "random.shuffle(names)\n",
    "\n",
    "def shuffle_word(word):\n",
    "    word=list(word.lower())\n",
    "    # random.shuffle(word)\n",
    "    word.sort()\n",
    "    return ''.join([w for w in word if w != ' '])\n",
    "    \n",
    "easy=False\n",
    "points=0\n",
    "    \n",
    "def play_round(name):\n",
    "    global points\n",
    "    shfl = shuffle_word(name)\n",
    "    if not easy:\n",
    "        shfl=shfl.lower()\n",
    "    print(shfl)\n",
    "    print('In the movie:', random.sample(actor_movies[name],1)[0])\n",
    "    ans = \"\"\n",
    "    while True:\n",
    "        ans = input('\\nType \"h\" for a hint, \"y\" for the answer, or type a guess:')\n",
    "        if ans.lower() in ['h','hint']:\n",
    "            print('In the movie:', random.sample(actor_movies[name],1)[0])\n",
    "            points-=1\n",
    "        if ans.lower() in ['y','yes']:\n",
    "            print(name)\n",
    "            return\n",
    "        if ans.lower()==name.lower():\n",
    "            print('you won!')\n",
    "            points+=5\n",
    "            return\n",
    "        # clear_output(wait=True)\n",
    "        \n",
    "    \n",
    "for n in names:\n",
    "    play_round(n)\n",
    "    print('Score:', points)\n",
    "    sleep(3)\n",
    "    clear_output()"
   ]
  },
  {
   "cell_type": "code",
   "execution_count": null,
   "id": "8c735eaf-8715-40f7-91cc-df46009c3183",
   "metadata": {},
   "outputs": [],
   "source": []
  }
 ],
 "metadata": {
  "kernelspec": {
   "display_name": "Python 3 (ipykernel)",
   "language": "python",
   "name": "python3"
  },
  "language_info": {
   "codemirror_mode": {
    "name": "ipython",
    "version": 3
   },
   "file_extension": ".py",
   "mimetype": "text/x-python",
   "name": "python",
   "nbconvert_exporter": "python",
   "pygments_lexer": "ipython3",
   "version": "3.9.6"
  }
 },
 "nbformat": 4,
 "nbformat_minor": 5
}
